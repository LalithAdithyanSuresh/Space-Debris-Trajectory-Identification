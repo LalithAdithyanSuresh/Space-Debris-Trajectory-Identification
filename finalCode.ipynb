{
 "cells": [
  {
   "cell_type": "code",
   "execution_count": 1,
   "metadata": {},
   "outputs": [
    {
     "name": "stdout",
     "output_type": "stream",
     "text": [
      "Total frames: 451, Width: 1920, Height: 1080\n",
      "Processed 100 frames\n",
      "Processed 200 frames\n",
      "Processed 300 frames\n",
      "Processed 400 frames\n",
      "Video converted to frames array successfully!\n"
     ]
    }
   ],
   "source": [
    "import cv2\n",
    "import os\n",
    "import numpy as np\n",
    "\n",
    "def convert_to_frames_array(video_path, output_folder):\n",
    "    cap = cv2.VideoCapture(video_path)\n",
    "    if not cap.isOpened():\n",
    "        print(f\"Error: Could not open video file {video_path}\")\n",
    "        return None\n",
    "    frame_count = int(cap.get(cv2.CAP_PROP_FRAME_COUNT))\n",
    "    width = int(cap.get(cv2.CAP_PROP_FRAME_WIDTH))\n",
    "    height = int(cap.get(cv2.CAP_PROP_FRAME_HEIGHT))\n",
    "    fps = cap.get(cv2.CAP_PROP_FPS)\n",
    "    frames = np.zeros((frame_count, height, width, 3), dtype=np.uint8) \n",
    "    print(f\"Total frames: {frame_count}, Width: {width}, Height: {height}\")\n",
    "    if output_folder is not None:\n",
    "      os.makedirs(output_folder, exist_ok=True)\n",
    "    i = 0\n",
    "    while True:\n",
    "        ret, frame = cap.read()\n",
    "        if not ret:\n",
    "            break\n",
    "        frames[i] = frame \n",
    "        if output_folder:\n",
    "            cv2.imwrite(os.path.join(output_folder, f\"frame_{i:04d}.png\"), frame)\n",
    "        i += 1\n",
    "        if i % 100 == 0:\n",
    "            print(f\"Processed {i} frames\")\n",
    "\n",
    "    cap.release()\n",
    "    print(\"Video converted to frames array successfully!\")\n",
    "    return frames, fps\n",
    "\n",
    "video_path = 'MyRecording_001.mp4'\n",
    "output_folder = 'frames'\n",
    "frames_array, fps = convert_to_frames_array(video_path, output_folder)"
   ]
  },
  {
   "cell_type": "code",
   "execution_count": 2,
   "metadata": {},
   "outputs": [
    {
     "name": "stdout",
     "output_type": "stream",
     "text": [
      "Converting to Gray frames\n",
      "Processed 100 frames\n",
      "Processed 200 frames\n",
      "Processed 300 frames\n",
      "Processed 400 frames\n",
      "Shape of gray_frames: (451, 1080, 1920)\n"
     ]
    }
   ],
   "source": [
    "def rgb_to_gray(rgb_frame):\n",
    "    red = rgb_frame[:, :, 2] \n",
    "    green = rgb_frame[:, :, 1] \n",
    "    blue = rgb_frame[:, :, 0]\n",
    "    gray = (0.2989 * red) + (0.5870 * green) + (0.1140 * blue)\n",
    "    gray = gray.astype(np.uint8) \n",
    "    return gray\n",
    "\n",
    "frames_C = 1\n",
    "if frames_array is not None:\n",
    "    print(\"Converting to Gray frames\")\n",
    "    gray_frames = []\n",
    "    for rgb_frame in frames_array:\n",
    "        frames_C +=1\n",
    "        if frames_C % 100 == 0:\n",
    "            print(f\"Processed {frames_C} frames\")\n",
    "        gray_frame = rgb_to_gray(rgb_frame)\n",
    "        gray_frames.append(gray_frame)\n",
    "    gray_frames = np.array(gray_frames)\n",
    "    print(\"Shape of gray_frames:\", gray_frames.shape)\n"
   ]
  },
  {
   "cell_type": "code",
   "execution_count": 3,
   "metadata": {},
   "outputs": [
    {
     "name": "stdout",
     "output_type": "stream",
     "text": [
      "Processed 0 frames\n",
      "Processed 100 frames\n",
      "Processed 200 frames\n",
      "Processed 300 frames\n",
      "Processed 400 frames\n",
      "(450, 1080, 1920)\n"
     ]
    }
   ],
   "source": [
    "def frame_diff(frames):\n",
    "    diff = []\n",
    "    for i in range(len(frames)-1):\n",
    "        diff.append(abs(frames[i]-frames[i+1]))\n",
    "        if(i%100 ==0):\n",
    "            print(f\"Processed {i} frames\")\n",
    "\n",
    "    return diff\n",
    "\n",
    "Diff = np.array(frame_diff(gray_frames))\n",
    "print(Diff.shape)"
   ]
  },
  {
   "cell_type": "code",
   "execution_count": 4,
   "metadata": {},
   "outputs": [],
   "source": [
    "for i, diff_frame in enumerate(Diff):\n",
    "    output_filename = os.path.join(\"diffFrames\", f\"diff_frame_{i:04d}.png\") # or .jpg, .bmp, etc.\n",
    "    cv2.imwrite(output_filename, diff_frame)"
   ]
  },
  {
   "cell_type": "code",
   "execution_count": 5,
   "metadata": {},
   "outputs": [],
   "source": [
    "import numpy as np\n",
    "\n",
    "def save_video(frames, output_path, fps=30):\n",
    "    if len(frames) == 0:\n",
    "        print(\"No frames to write.\")\n",
    "        return\n",
    "\n",
    "    height, width = frames[0].size[1], frames[0].size[0]\n",
    "    fourcc = cv2.VideoWriter_fourcc(*'mp4v')\n",
    "    out = cv2.VideoWriter(output_path, fourcc, fps, (width, height))\n",
    "\n",
    "    for frame in frames:\n",
    "        frame_np = np.array(frame)  # PIL to numpy array\n",
    "        if frame_np.shape[2] == 4:  # Remove alpha if present\n",
    "            frame_np = frame_np[:, :, :3]\n",
    "        out.write(frame_np)  # Convert to BGR\n",
    "\n",
    "    out.release()\n",
    "    print(f\"✅ Output video saved at: {output_path}\")"
   ]
  },
  {
   "cell_type": "code",
   "execution_count": 6,
   "metadata": {},
   "outputs": [
    {
     "name": "stdout",
     "output_type": "stream",
     "text": [
      "Video 'diffFrames\\output.mp4' created successfully.\n"
     ]
    }
   ],
   "source": [
    "image_folder =r'diffFrames'\n",
    "\n",
    "images = [img for img in os.listdir(image_folder) if img.endswith(\".png\")]\n",
    "images.sort()\n",
    "if not images:\n",
    "    print(\"No PNG images found in the folder.\")\n",
    "    exit()\n",
    "\n",
    "first_image = cv2.imread(os.path.join(image_folder, images[0]))\n",
    "height, width, layers = first_image.shape\n",
    "\n",
    "output_filename = os.path.join(image_folder, 'output.mp4')\n",
    "fourcc = cv2.VideoWriter_fourcc(*'mp4v')  # Use mp4v codec for .mp4 format\n",
    "\n",
    "out = cv2.VideoWriter(output_filename, fourcc, 24.0, (width, height))\n",
    "for image in images:\n",
    "    img_path = os.path.join(image_folder, image)\n",
    "    frame = cv2.imread(img_path)\n",
    "    out.write(frame)\n",
    "\n",
    "out.release()\n",
    "cv2.destroyAllWindows()\n",
    "\n",
    "print(f\"Video '{output_filename}' created successfully.\")"
   ]
  },
  {
   "cell_type": "code",
   "execution_count": 7,
   "metadata": {},
   "outputs": [],
   "source": [
    "def euclidean_dist(p1, p2):\n",
    "    return np.linalg.norm(np.array(p1) - np.array(p2))\n"
   ]
  },
  {
   "cell_type": "code",
   "execution_count": 8,
   "metadata": {},
   "outputs": [],
   "source": [
    "from PIL import Image, ImageDraw\n",
    "from scipy.ndimage import label, find_objects\n",
    "import numpy as np\n",
    "\n",
    "def track_persistent_blobs(frames, diff_frames, min_area=20, min_duration=7, max_dist=25, max_area_diff=0.3):\n",
    "    blob_tracks = {}  # {id: [ (frame_idx, centroid, area) ]}\n",
    "    next_id = 0\n",
    "\n",
    "    prev_blobs = []\n",
    "\n",
    "    for i in range(len(diff_frames)):\n",
    "        labeled_array, _ = label(diff_frames[i])\n",
    "        slices = find_objects(labeled_array)\n",
    "\n",
    "        current_blobs = []\n",
    "\n",
    "        for sl in slices:\n",
    "            y0, x0 = sl[0].start, sl[1].start\n",
    "            y1, x1 = sl[0].stop,  sl[1].stop\n",
    "\n",
    "            area = (x1 - x0) * (y1 - y0)\n",
    "            if area < min_area:\n",
    "                continue\n",
    "\n",
    "            centroid = ((y0 + y1) / 2, (x0 + x1) / 2)\n",
    "            matched = False\n",
    "\n",
    "            # Try matching with prev frame blobs\n",
    "            for blob_id, last_blob in prev_blobs:\n",
    "                dist = euclidean_dist(centroid, last_blob['centroid'])\n",
    "                area_ratio = abs(area - last_blob['area']) / last_blob['area']\n",
    "\n",
    "                if dist < max_dist and area_ratio < max_area_diff:\n",
    "                    blob_tracks[blob_id].append((i, centroid, area))\n",
    "                    current_blobs.append((blob_id, {\"centroid\": centroid, \"area\": area}))\n",
    "                    matched = True\n",
    "                    break\n",
    "\n",
    "            if not matched:\n",
    "                # New blob\n",
    "                blob_tracks[next_id] = [(i, centroid, area)]\n",
    "                current_blobs.append((next_id, {\"centroid\": centroid, \"area\": area}))\n",
    "                next_id += 1\n",
    "\n",
    "        prev_blobs = current_blobs\n",
    "\n",
    "    # Filter blobs with enough duration\n",
    "    persistent_ids = [blob_id for blob_id, track in blob_tracks.items() if len(track) >= min_duration]\n",
    "\n",
    "    # Draw these on frames\n",
    "    output_frames = []\n",
    "    for i in range(len(diff_frames)):\n",
    "        base = Image.fromarray(frames[i + 1])  # skip first\n",
    "        draw = ImageDraw.Draw(base)\n",
    "\n",
    "        for blob_id in persistent_ids:\n",
    "            track = [step for step in blob_tracks[blob_id] if step[0] == i]\n",
    "            if track:\n",
    "                _, centroid, _ = track[0]\n",
    "                y, x = centroid\n",
    "                r = 12\n",
    "                draw.ellipse([x - r, y - r, x + r, y + r], outline=(255, 0, 0), width=2)\n",
    "                draw.text((x + r + 2, y - r), f\"ID {blob_id}\", fill=(255, 0, 0))\n",
    "\n",
    "        output_frames.append(base)\n",
    "\n",
    "    return output_frames\n"
   ]
  },
  {
   "cell_type": "code",
   "execution_count": 9,
   "metadata": {},
   "outputs": [
    {
     "name": "stdout",
     "output_type": "stream",
     "text": [
      "✅ Output video saved at: persistent_objects.mp4\n"
     ]
    }
   ],
   "source": [
    "output_frames = track_persistent_blobs(frames_array, Diff)\n",
    "save_video(output_frames, \"persistent_objects.mp4\", fps=30)\n"
   ]
  },
  {
   "cell_type": "code",
   "execution_count": 10,
   "metadata": {},
   "outputs": [],
   "source": [
    "from scipy.ndimage import label, find_objects\n",
    "from collections import defaultdict\n",
    "import numpy as np\n",
    "\n",
    "def compute_centroid(sl):\n",
    "    y0, x0 = sl[0].start, sl[1].start\n",
    "    y1, x1 = sl[0].stop,  sl[1].stop\n",
    "    return ((x0 + x1) / 2, (y0 + y1) / 2), (x1 - x0) * (y1 - y0)\n",
    "\n",
    "def track_objects_across_frames(diff_frames, max_dist=30, size_tol=0.4, min_frames=7):\n",
    "    object_tracks = defaultdict(list)  # id -> list of (frame_index, (x,y), area)\n",
    "    next_id = 0\n",
    "\n",
    "    prev_objects = []\n",
    "\n",
    "    for frame_idx, diff in enumerate(diff_frames):\n",
    "        labeled_array, _ = label(diff)\n",
    "        slices = find_objects(labeled_array)\n",
    "\n",
    "        curr_objects = []\n",
    "        for sl in slices:\n",
    "            centroid, area = compute_centroid(sl)\n",
    "            curr_objects.append((centroid, area))\n",
    "\n",
    "        assigned = set()\n",
    "        for i, (centroid, area) in enumerate(curr_objects):\n",
    "            matched = False\n",
    "            for obj_id, track in object_tracks.items():\n",
    "                if len(track) == 0: continue\n",
    "                prev_frame_idx, prev_pos, prev_area = track[-1]\n",
    "                if frame_idx - prev_frame_idx > 2:  # Too long ago\n",
    "                    continue\n",
    "                dist = np.linalg.norm(np.array(prev_pos) - np.array(centroid))\n",
    "                area_diff = abs(prev_area - area) / prev_area\n",
    "                if dist < max_dist and area_diff < size_tol:\n",
    "                    track.append((frame_idx, centroid, area))\n",
    "                    matched = True\n",
    "                    assigned.add(i)\n",
    "                    break\n",
    "\n",
    "            if not matched and i not in assigned:\n",
    "                object_tracks[next_id].append((frame_idx, centroid, area))\n",
    "                next_id += 1\n",
    "\n",
    "        prev_objects = curr_objects\n",
    "\n",
    "    # Filter objects seen in enough frames\n",
    "    filtered_tracks = {k: v for k, v in object_tracks.items() if len(v) >= min_frames}\n",
    "    return filtered_tracks\n"
   ]
  },
  {
   "cell_type": "code",
   "execution_count": 11,
   "metadata": {},
   "outputs": [],
   "source": [
    "def compute_velocities(tracks):\n",
    "    velocities = {}\n",
    "    predictions = {}\n",
    "\n",
    "    for obj_id, entries in tracks.items():\n",
    "        positions = np.array([pos for _, pos, _ in entries])\n",
    "        frames = np.array([f for f, _, _ in entries])\n",
    "\n",
    "        if len(positions) < 2:\n",
    "            velocities[obj_id] = (0, 0)\n",
    "            continue\n",
    "\n",
    "        dx = np.diff(positions[:, 0])\n",
    "        dy = np.diff(positions[:, 1])\n",
    "        dt = np.diff(frames)\n",
    "\n",
    "        vx = np.mean(dx / dt)\n",
    "        vy = np.mean(dy / dt)\n",
    "        velocities[obj_id] = (vx, vy)\n",
    "\n",
    "        # Predict next position\n",
    "        last_frame, last_pos, _ = entries[-1]\n",
    "        pred_x = last_pos[0] + vx\n",
    "        pred_y = last_pos[1] + vy\n",
    "        predictions[obj_id] = (pred_x, pred_y)\n",
    "\n",
    "    return velocities, predictions\n"
   ]
  },
  {
   "cell_type": "code",
   "execution_count": null,
   "metadata": {},
   "outputs": [],
   "source": [
    "tracks = track_objects_across_frames(Diff)\n",
    "velocities, predictions = compute_velocities(tracks)\n",
    "\n",
    "for obj_id, vel in velocities.items():\n",
    "    print(f\"Asteroid {obj_id}: Average velocity = {vel}\")\n"
   ]
  },
  {
   "cell_type": "code",
   "execution_count": null,
   "metadata": {},
   "outputs": [],
   "source": []
  }
 ],
 "metadata": {
  "kernelspec": {
   "display_name": "base",
   "language": "python",
   "name": "python3"
  },
  "language_info": {
   "codemirror_mode": {
    "name": "ipython",
    "version": 3
   },
   "file_extension": ".py",
   "mimetype": "text/x-python",
   "name": "python",
   "nbconvert_exporter": "python",
   "pygments_lexer": "ipython3",
   "version": "3.12.9"
  }
 },
 "nbformat": 4,
 "nbformat_minor": 2
}
